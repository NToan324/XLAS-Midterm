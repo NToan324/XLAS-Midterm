{
 "cells": [
  {
   "cell_type": "code",
   "execution_count": 6,
   "metadata": {},
   "outputs": [],
   "source": [
    "import cv2 as cv\n",
    "import numpy as np"
   ]
  },
  {
   "cell_type": "markdown",
   "metadata": {},
   "source": [
    "EXCUTE"
   ]
  },
  {
   "cell_type": "code",
   "execution_count": null,
   "metadata": {},
   "outputs": [],
   "source": [
    "list_color_range = {'Yellow':[(19,70,100), (35,255,255)],\n",
    "                    'Orange':[(8,70,100), (15,255,255)],\n",
    "                    'Pink': [(147,70,100), (170,255,255)],\n",
    "                    'Blue':[(90,50,70), (128,255,255)],\n",
    "                    'Green':[(36,50,70), (89,255,255)],\n",
    "                    'Purple':[(129,50,70), (158,255,255)]\n",
    "                    }\n",
    "\n",
    "def export(path, image):\n",
    "    fileOutput = f\"D:\\Sophomore_2nd\\Second Term\\XLAS\\Midterm\\{path}\"\n",
    "    cv.imwrite(fileOutput, image)\n",
    "    print(\"Successful!\")\n",
    "    \n",
    "image = cv.imread(\"input1.jpg\", cv.IMREAD_COLOR)\n",
    "hsv = cv.cvtColor(image, cv.COLOR_BGR2HSV)\n",
    "\n",
    "for color in list_color_range:\n",
    "    mask = cv.inRange(hsv, list_color_range[color][0], list_color_range[color][1])\n",
    "    output = cv.bitwise_and(image, image, mask = mask)\n",
    "    kernel = np.ones((5,5), np.uint8)\n",
    "    dst = cv.morphologyEx(output, cv.MORPH_OPEN, kernel)\n",
    "    export(f'{color}.jpg', dst) \n",
    "    "
   ]
  },
  {
   "cell_type": "code",
   "execution_count": 195,
   "metadata": {},
   "outputs": [],
   "source": [
    "image = cv.imread(\"input1.jpg\", 0)\n",
    "_, yellow_image = cv.threshold(image, 210, 255, cv.THRESH_BINARY_INV)\n",
    "_, gray_image = cv.threshold(image, 145, 255, cv.THRESH_BINARY)\n",
    "gray = cv.bitwise_and(yellow_image, gray_image)\n",
    "\n",
    "kernel = np.ones((10,10), np.uint8)\n",
    "opening = cv.morphologyEx(gray, cv.MORPH_OPEN, kernel)\n",
    "erosion = cv.erode(opening,kernel,iterations = 0)\n",
    "cv.imshow(\"Black Color\", erosion)\n",
    "cv.waitKey(0)\n",
    "cv.destroyAllWindows()"
   ]
  }
 ],
 "metadata": {
  "kernelspec": {
   "display_name": "Python 3",
   "language": "python",
   "name": "python3"
  },
  "language_info": {
   "codemirror_mode": {
    "name": "ipython",
    "version": 3
   },
   "file_extension": ".py",
   "mimetype": "text/x-python",
   "name": "python",
   "nbconvert_exporter": "python",
   "pygments_lexer": "ipython3",
   "version": "3.11.2"
  }
 },
 "nbformat": 4,
 "nbformat_minor": 2
}
